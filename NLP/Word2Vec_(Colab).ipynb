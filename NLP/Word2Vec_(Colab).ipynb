{
  "nbformat": 4,
  "nbformat_minor": 0,
  "metadata": {
    "colab": {
      "provenance": []
    },
    "kernelspec": {
      "name": "python3",
      "display_name": "Python 3"
    },
    "language_info": {
      "name": "python"
    }
  },
  "cells": [
    {
      "cell_type": "code",
      "execution_count": 1,
      "metadata": {
        "id": "pqj11-jHlJHf"
      },
      "outputs": [],
      "source": [
        "import gensim\n",
        "from gensim.models import Word2Vec, KeyedVectors"
      ]
    },
    {
      "cell_type": "code",
      "source": [
        "from google.colab import drive\n",
        "drive.mount('/content/drive/')"
      ],
      "metadata": {
        "colab": {
          "base_uri": "https://localhost:8080/"
        },
        "id": "Vmu4aFIClMd3",
        "outputId": "47fdec6c-120e-4577-9fae-49b42dc98126"
      },
      "execution_count": 2,
      "outputs": [
        {
          "output_type": "stream",
          "name": "stdout",
          "text": [
            "Mounted at /content/drive/\n"
          ]
        }
      ]
    },
    {
      "cell_type": "code",
      "source": [
        "model = KeyedVectors.load_word2vec_format('/content/drive/MyDrive/GoogleNews/GoogleNews-vectors-negative300.bin.gz',binary=True,limit=500000)"
      ],
      "metadata": {
        "id": "VKejw6rtlSDd"
      },
      "execution_count": 4,
      "outputs": []
    },
    {
      "cell_type": "code",
      "source": [
        "model['human']"
      ],
      "metadata": {
        "colab": {
          "base_uri": "https://localhost:8080/"
        },
        "id": "Hw3NBqBRlpXT",
        "outputId": "4a3e488b-615f-4f29-87c2-072e499453fb"
      },
      "execution_count": 5,
      "outputs": [
        {
          "output_type": "execute_result",
          "data": {
            "text/plain": [
              "array([ 5.59082031e-02,  9.22851562e-02,  1.07910156e-01,  2.83203125e-01,\n",
              "       -2.43164062e-01,  1.90429688e-02,  4.08203125e-01, -3.17382812e-02,\n",
              "       -4.78515625e-02,  6.34765625e-02, -9.32617188e-02, -4.46777344e-02,\n",
              "       -2.41210938e-01, -1.58203125e-01, -5.83496094e-02,  2.51953125e-01,\n",
              "       -3.24707031e-02,  1.00097656e-01, -4.56542969e-02,  1.35742188e-01,\n",
              "       -2.07031250e-01, -3.73046875e-01,  4.39453125e-02,  4.24804688e-02,\n",
              "        6.93359375e-02, -2.42187500e-01, -2.75390625e-01,  1.95312500e-01,\n",
              "        2.26562500e-01, -1.90429688e-01, -2.35351562e-01, -5.56640625e-02,\n",
              "       -1.25000000e-01, -8.78906250e-02, -2.33398438e-01,  9.61914062e-02,\n",
              "       -4.83398438e-02,  4.54101562e-02,  9.81445312e-02,  5.76171875e-02,\n",
              "       -4.17480469e-02,  2.02148438e-01, -9.03320312e-02,  2.75390625e-01,\n",
              "       -6.34765625e-02,  4.93164062e-02,  2.92968750e-02,  2.57812500e-01,\n",
              "        1.32812500e-01,  7.42187500e-02,  6.64062500e-02, -1.37695312e-01,\n",
              "       -1.73828125e-01,  1.89453125e-01, -1.88476562e-01, -4.34570312e-02,\n",
              "        2.11181641e-02, -3.02734375e-01,  1.76757812e-01,  3.24218750e-01,\n",
              "       -1.27563477e-02,  1.47094727e-02,  1.88476562e-01,  9.61914062e-02,\n",
              "       -8.15429688e-02, -6.64062500e-02,  9.71679688e-02,  2.29492188e-01,\n",
              "       -2.94921875e-01, -1.09375000e-01,  6.54296875e-02, -7.42187500e-02,\n",
              "       -3.41796875e-03, -6.88476562e-02, -9.86328125e-02, -1.13769531e-01,\n",
              "        1.03027344e-01,  1.39770508e-02, -7.08007812e-02, -1.81884766e-02,\n",
              "        6.49414062e-02, -3.27148438e-02,  1.04980469e-01, -7.22656250e-02,\n",
              "       -1.67236328e-02, -6.20117188e-02, -2.82287598e-03,  1.61132812e-01,\n",
              "       -5.27343750e-02,  1.30859375e-01,  1.46484375e-01,  2.81982422e-02,\n",
              "       -5.54199219e-02,  5.06591797e-03, -3.93066406e-02, -2.33154297e-02,\n",
              "        1.16699219e-01,  9.52148438e-02,  9.08203125e-02, -6.22558594e-02,\n",
              "       -1.24023438e-01,  2.44140625e-02,  1.90429688e-01, -5.49316406e-02,\n",
              "        1.68945312e-01, -1.94091797e-02, -6.88476562e-02,  4.32128906e-02,\n",
              "        1.00097656e-01,  1.70898438e-02, -1.87500000e-01, -5.43212891e-03,\n",
              "        4.46777344e-02,  1.46484375e-01, -1.19018555e-03,  8.74023438e-02,\n",
              "       -8.74023438e-02, -2.23388672e-02,  1.57226562e-01,  1.48437500e-01,\n",
              "       -1.76757812e-01, -2.47070312e-01, -2.71484375e-01,  9.13085938e-02,\n",
              "       -2.71484375e-01, -4.19921875e-02,  1.51367188e-01, -9.88769531e-03,\n",
              "        2.14843750e-01,  3.86047363e-03, -1.08886719e-01, -1.00585938e-01,\n",
              "       -3.80859375e-01,  8.00781250e-02,  8.83789062e-02, -2.06054688e-01,\n",
              "        5.49316406e-02,  6.88476562e-02,  1.40625000e-01, -1.43554688e-01,\n",
              "        9.61914062e-02, -3.46679688e-02, -1.42578125e-01,  2.44140625e-02,\n",
              "       -6.29882812e-02,  1.03027344e-01, -3.12500000e-02,  2.57812500e-01,\n",
              "        2.60009766e-02, -4.95605469e-02,  6.68945312e-02, -5.88378906e-02,\n",
              "       -1.56250000e-01,  3.10546875e-01, -3.27148438e-02, -1.75781250e-01,\n",
              "       -5.73730469e-02, -3.41796875e-01,  2.03125000e-01, -1.30859375e-01,\n",
              "       -1.01074219e-01, -3.10546875e-01,  2.44140625e-03,  6.05468750e-02,\n",
              "       -1.84570312e-01,  1.33056641e-02,  7.32421875e-02, -1.00097656e-01,\n",
              "        1.89208984e-02, -8.44726562e-02,  4.02832031e-02,  1.11328125e-01,\n",
              "        1.07421875e-01,  5.17578125e-02,  3.00781250e-01,  3.88183594e-02,\n",
              "       -1.23046875e-01, -5.29785156e-02, -1.79687500e-01, -2.18750000e-01,\n",
              "       -7.66601562e-02,  1.08886719e-01,  1.25976562e-01, -2.92968750e-01,\n",
              "       -2.77343750e-01,  1.91650391e-02, -1.92382812e-01, -3.68652344e-02,\n",
              "        1.68457031e-02,  3.16406250e-01, -1.59179688e-01,  1.20605469e-01,\n",
              "       -1.60156250e-01,  1.04492188e-01, -1.49414062e-01, -6.73828125e-02,\n",
              "        1.05468750e-01, -1.80664062e-01, -7.47070312e-02, -2.01171875e-01,\n",
              "        1.47460938e-01,  1.66015625e-02, -1.40625000e-01, -2.79541016e-02,\n",
              "       -1.60156250e-01, -4.24804688e-02, -1.20605469e-01, -7.08007812e-02,\n",
              "       -3.51562500e-01, -2.61718750e-01, -3.49609375e-01,  3.08990479e-04,\n",
              "       -1.45507812e-01, -8.93554688e-02, -3.49121094e-02,  6.83593750e-02,\n",
              "        2.49023438e-01, -7.91015625e-02, -2.99072266e-02,  3.73535156e-02,\n",
              "        2.39257812e-01,  9.08203125e-02,  1.87500000e-01, -2.81250000e-01,\n",
              "        5.49316406e-02, -1.47460938e-01,  8.25195312e-02,  7.08007812e-02,\n",
              "        8.10546875e-02,  8.74023438e-02,  3.59375000e-01,  1.09863281e-01,\n",
              "        8.31604004e-04,  5.83496094e-02, -1.46484375e-01, -2.01171875e-01,\n",
              "       -3.54003906e-02,  1.13281250e-01,  9.03320312e-02, -1.16210938e-01,\n",
              "        2.98828125e-01, -4.85229492e-03, -4.22363281e-02, -1.48437500e-01,\n",
              "        1.33789062e-01, -3.83300781e-02,  6.34765625e-02,  1.75781250e-01,\n",
              "       -6.34765625e-02, -1.57226562e-01,  1.79443359e-02,  6.62231445e-03,\n",
              "       -1.74560547e-02,  5.71289062e-02,  3.73535156e-02, -4.58984375e-01,\n",
              "       -2.58789062e-02,  1.14746094e-01,  4.76074219e-02,  3.90625000e-02,\n",
              "        8.74023438e-02, -7.27539062e-02, -1.14257812e-01,  5.71289062e-02,\n",
              "       -1.17797852e-02,  3.83300781e-02,  6.63757324e-04, -1.22070312e-03,\n",
              "       -1.38671875e-01,  1.10351562e-01, -1.01074219e-01,  6.98242188e-02,\n",
              "       -1.66015625e-01, -2.00195312e-01, -1.25000000e-01, -6.93359375e-02,\n",
              "       -1.54296875e-01,  1.09863281e-01,  3.27148438e-02,  4.83398438e-02,\n",
              "       -9.42382812e-02,  8.98437500e-02,  1.14746094e-01, -4.66308594e-02,\n",
              "       -6.29882812e-02,  1.50146484e-02, -1.55273438e-01, -1.20605469e-01,\n",
              "        2.23632812e-01,  1.99218750e-01, -2.11914062e-01, -6.54296875e-02,\n",
              "       -3.12500000e-01,  8.74023438e-02, -2.22656250e-01,  1.23046875e-01,\n",
              "        4.76074219e-03, -7.12890625e-02,  1.62109375e-01,  9.13085938e-02],\n",
              "      dtype=float32)"
            ]
          },
          "metadata": {},
          "execution_count": 5
        }
      ]
    },
    {
      "cell_type": "code",
      "source": [
        "model['human'].shape"
      ],
      "metadata": {
        "colab": {
          "base_uri": "https://localhost:8080/"
        },
        "id": "BK2udz1blfmV",
        "outputId": "174f35ce-0698-414e-f95b-22491cda0c08"
      },
      "execution_count": 6,
      "outputs": [
        {
          "output_type": "execute_result",
          "data": {
            "text/plain": [
              "(300,)"
            ]
          },
          "metadata": {},
          "execution_count": 6
        }
      ]
    },
    {
      "cell_type": "code",
      "source": [
        "model['man']"
      ],
      "metadata": {
        "colab": {
          "base_uri": "https://localhost:8080/"
        },
        "id": "gsGZdVeklzjN",
        "outputId": "9b8fe463-a770-4a97-ef0c-952a9f4d524a"
      },
      "execution_count": 7,
      "outputs": [
        {
          "output_type": "execute_result",
          "data": {
            "text/plain": [
              "array([ 0.32617188,  0.13085938,  0.03466797, -0.08300781,  0.08984375,\n",
              "       -0.04125977, -0.19824219,  0.00689697,  0.14355469,  0.0019455 ,\n",
              "        0.02880859, -0.25      , -0.08398438, -0.15136719, -0.10205078,\n",
              "        0.04077148, -0.09765625,  0.05932617,  0.02978516, -0.10058594,\n",
              "       -0.13085938,  0.001297  ,  0.02612305, -0.27148438,  0.06396484,\n",
              "       -0.19140625, -0.078125  ,  0.25976562,  0.375     , -0.04541016,\n",
              "        0.16210938,  0.13671875, -0.06396484, -0.02062988, -0.09667969,\n",
              "        0.25390625,  0.24804688, -0.12695312,  0.07177734,  0.3203125 ,\n",
              "        0.03149414, -0.03857422,  0.21191406, -0.00811768,  0.22265625,\n",
              "       -0.13476562, -0.07617188,  0.01049805, -0.05175781,  0.03808594,\n",
              "       -0.13378906,  0.125     ,  0.0559082 , -0.18261719,  0.08154297,\n",
              "       -0.08447266, -0.07763672, -0.04345703,  0.08105469, -0.01092529,\n",
              "        0.17480469,  0.30664062, -0.04321289, -0.01416016,  0.09082031,\n",
              "       -0.00927734, -0.03442383, -0.11523438,  0.12451172, -0.0246582 ,\n",
              "        0.08544922,  0.14355469, -0.27734375,  0.03662109, -0.11035156,\n",
              "        0.13085938, -0.01721191, -0.08056641, -0.00708008, -0.02954102,\n",
              "        0.30078125, -0.09033203,  0.03149414, -0.18652344, -0.11181641,\n",
              "        0.10253906, -0.25976562, -0.02209473,  0.16796875, -0.05322266,\n",
              "       -0.14550781, -0.01049805, -0.03039551, -0.03857422,  0.11523438,\n",
              "       -0.0062561 , -0.13964844,  0.08007812,  0.06103516, -0.15332031,\n",
              "       -0.11132812, -0.14160156,  0.19824219, -0.06933594,  0.29296875,\n",
              "       -0.16015625,  0.20898438,  0.00041771,  0.01831055, -0.20214844,\n",
              "        0.04760742,  0.05810547, -0.0123291 , -0.01989746, -0.00364685,\n",
              "       -0.0135498 , -0.08251953, -0.03149414,  0.00717163,  0.20117188,\n",
              "        0.08300781, -0.0480957 , -0.26367188, -0.09667969, -0.22558594,\n",
              "       -0.09667969,  0.06494141, -0.02502441,  0.08496094,  0.03198242,\n",
              "       -0.07568359, -0.25390625, -0.11669922, -0.01446533, -0.16015625,\n",
              "       -0.00701904, -0.05712891,  0.02807617, -0.09179688,  0.25195312,\n",
              "        0.24121094,  0.06640625,  0.12988281,  0.17089844, -0.13671875,\n",
              "        0.1875    , -0.10009766, -0.04199219, -0.12011719,  0.00524902,\n",
              "        0.15625   , -0.203125  , -0.07128906, -0.06103516,  0.01635742,\n",
              "        0.18261719,  0.03588867, -0.04248047,  0.16796875, -0.15039062,\n",
              "       -0.16992188,  0.01831055,  0.27734375, -0.01269531, -0.0390625 ,\n",
              "       -0.15429688,  0.18457031, -0.07910156,  0.09033203, -0.02709961,\n",
              "        0.08251953,  0.06738281, -0.16113281, -0.19628906, -0.15234375,\n",
              "       -0.04711914,  0.04760742,  0.05908203, -0.16894531, -0.14941406,\n",
              "        0.12988281,  0.04321289,  0.02624512, -0.1796875 , -0.19628906,\n",
              "        0.06445312,  0.08935547,  0.1640625 , -0.03808594, -0.09814453,\n",
              "       -0.01483154,  0.1875    ,  0.12792969,  0.22753906,  0.01818848,\n",
              "       -0.07958984, -0.11376953, -0.06933594, -0.15527344, -0.08105469,\n",
              "       -0.09277344, -0.11328125, -0.15136719, -0.08007812, -0.05126953,\n",
              "       -0.15332031,  0.11669922,  0.06835938,  0.0324707 , -0.33984375,\n",
              "       -0.08154297, -0.08349609,  0.04003906,  0.04907227, -0.24121094,\n",
              "       -0.13476562, -0.05932617,  0.12158203, -0.34179688,  0.16503906,\n",
              "        0.06176758, -0.18164062,  0.20117188, -0.07714844,  0.1640625 ,\n",
              "        0.00402832,  0.30273438, -0.10009766, -0.13671875, -0.05957031,\n",
              "        0.0625    , -0.21289062, -0.06542969,  0.1796875 , -0.07763672,\n",
              "       -0.01928711, -0.15039062, -0.00106049,  0.03417969,  0.03344727,\n",
              "        0.19335938,  0.01965332, -0.19921875, -0.10644531,  0.01525879,\n",
              "        0.00927734,  0.01416016, -0.02392578,  0.05883789,  0.02368164,\n",
              "        0.125     ,  0.04760742, -0.05566406,  0.11572266,  0.14746094,\n",
              "        0.1015625 , -0.07128906, -0.07714844, -0.12597656,  0.0291748 ,\n",
              "        0.09521484, -0.12402344, -0.109375  , -0.12890625,  0.16308594,\n",
              "        0.28320312, -0.03149414,  0.12304688, -0.23242188, -0.09375   ,\n",
              "       -0.12988281,  0.0135498 , -0.03881836, -0.08251953,  0.00897217,\n",
              "        0.16308594,  0.10546875, -0.13867188, -0.16503906, -0.03857422,\n",
              "        0.10839844, -0.10498047,  0.06396484,  0.38867188, -0.05981445,\n",
              "       -0.0612793 , -0.10449219, -0.16796875,  0.07177734,  0.13964844,\n",
              "        0.15527344, -0.03125   , -0.20214844, -0.12988281, -0.10058594,\n",
              "       -0.06396484, -0.08349609, -0.30273438, -0.08007812,  0.02099609],\n",
              "      dtype=float32)"
            ]
          },
          "metadata": {},
          "execution_count": 7
        }
      ]
    },
    {
      "cell_type": "code",
      "source": [
        "model.most_similar('man')"
      ],
      "metadata": {
        "colab": {
          "base_uri": "https://localhost:8080/"
        },
        "id": "cgOrETj0l4Tt",
        "outputId": "ad90072b-bf34-41c7-dcea-14e001de72ec"
      },
      "execution_count": 8,
      "outputs": [
        {
          "output_type": "execute_result",
          "data": {
            "text/plain": [
              "[('woman', 0.7664012908935547),\n",
              " ('boy', 0.6824871301651001),\n",
              " ('teenager', 0.6586930155754089),\n",
              " ('teenage_girl', 0.6147903203964233),\n",
              " ('girl', 0.5921714305877686),\n",
              " ('robber', 0.5585119128227234),\n",
              " ('Robbery_suspect', 0.5584409832954407),\n",
              " ('teen_ager', 0.5549196600914001),\n",
              " ('men', 0.5489763021469116),\n",
              " ('guy', 0.5420035123825073)]"
            ]
          },
          "metadata": {},
          "execution_count": 8
        }
      ]
    },
    {
      "cell_type": "code",
      "source": [
        "model.most_similar('keyboard')"
      ],
      "metadata": {
        "colab": {
          "base_uri": "https://localhost:8080/"
        },
        "id": "U3KHS6ryl8CN",
        "outputId": "6b6744ff-0314-48b6-8940-b73cb2686be4"
      },
      "execution_count": 9,
      "outputs": [
        {
          "output_type": "execute_result",
          "data": {
            "text/plain": [
              "[('keyboards', 0.7883305549621582),\n",
              " ('Keyboard', 0.7165083289146423),\n",
              " ('touchpad', 0.7082577347755432),\n",
              " ('trackpad', 0.7039602994918823),\n",
              " ('keypad', 0.6944352984428406),\n",
              " ('qwerty_keyboard', 0.6921881437301636),\n",
              " ('stylus', 0.6857424378395081),\n",
              " ('Qwerty_keyboard', 0.6761177182197571),\n",
              " ('scroll_wheel', 0.6746445894241333),\n",
              " ('onscreen_keyboard', 0.6673976182937622)]"
            ]
          },
          "metadata": {},
          "execution_count": 9
        }
      ]
    },
    {
      "cell_type": "code",
      "source": [
        "model.most_similar('cricket')"
      ],
      "metadata": {
        "colab": {
          "base_uri": "https://localhost:8080/"
        },
        "id": "A9Eg2YBPl_i1",
        "outputId": "6bb6f5e6-4229-4519-cead-f11d3104f5e5"
      },
      "execution_count": 10,
      "outputs": [
        {
          "output_type": "execute_result",
          "data": {
            "text/plain": [
              "[('cricketing', 0.8372225761413574),\n",
              " ('cricketers', 0.8165745735168457),\n",
              " ('Test_cricket', 0.8094819188117981),\n",
              " ('Twenty##_cricket', 0.8068488240242004),\n",
              " ('Twenty##', 0.7624265551567078),\n",
              " ('Cricket', 0.75413978099823),\n",
              " ('cricketer', 0.7372578382492065),\n",
              " ('twenty##', 0.7316356897354126),\n",
              " ('T##_cricket', 0.7304614186286926),\n",
              " ('West_Indies_cricket', 0.6987985968589783)]"
            ]
          },
          "metadata": {},
          "execution_count": 10
        }
      ]
    },
    {
      "cell_type": "code",
      "source": [
        "model.similarity('man','woman')"
      ],
      "metadata": {
        "colab": {
          "base_uri": "https://localhost:8080/"
        },
        "id": "aBrKjxzwmDft",
        "outputId": "96cfcd71-821a-4a13-b6cd-d2c3b62e9073"
      },
      "execution_count": 11,
      "outputs": [
        {
          "output_type": "execute_result",
          "data": {
            "text/plain": [
              "0.76640123"
            ]
          },
          "metadata": {},
          "execution_count": 11
        }
      ]
    },
    {
      "cell_type": "code",
      "source": [
        "model.similarity('man','python')"
      ],
      "metadata": {
        "colab": {
          "base_uri": "https://localhost:8080/"
        },
        "id": "EdT-Ff-rmJul",
        "outputId": "6ba0586c-5334-4e50-cfe8-b384188a8d21"
      },
      "execution_count": 12,
      "outputs": [
        {
          "output_type": "execute_result",
          "data": {
            "text/plain": [
              "0.2097966"
            ]
          },
          "metadata": {},
          "execution_count": 12
        }
      ]
    },
    {
      "cell_type": "code",
      "source": [
        "model.doesnt_match(['JAVA','python','elephant'])"
      ],
      "metadata": {
        "colab": {
          "base_uri": "https://localhost:8080/",
          "height": 36
        },
        "id": "rQaPIaeWmMjt",
        "outputId": "5de8529f-2f6e-4e9f-8216-f12f8604a91f"
      },
      "execution_count": 15,
      "outputs": [
        {
          "output_type": "execute_result",
          "data": {
            "text/plain": [
              "'JAVA'"
            ],
            "application/vnd.google.colaboratory.intrinsic+json": {
              "type": "string"
            }
          },
          "metadata": {},
          "execution_count": 15
        }
      ]
    },
    {
      "cell_type": "code",
      "source": [
        "x = model['king'] - model['man'] + model['woman']"
      ],
      "metadata": {
        "id": "aepXq6PMmWD1"
      },
      "execution_count": 16,
      "outputs": []
    },
    {
      "cell_type": "code",
      "source": [
        "model.most_similar([x])"
      ],
      "metadata": {
        "colab": {
          "base_uri": "https://localhost:8080/"
        },
        "id": "Vrsp1kEkmh8l",
        "outputId": "45b52f51-f93e-4521-f0c7-748c4f0135e7"
      },
      "execution_count": 18,
      "outputs": [
        {
          "output_type": "execute_result",
          "data": {
            "text/plain": [
              "[('king', 0.8449392318725586),\n",
              " ('queen', 0.7300517559051514),\n",
              " ('monarch', 0.645466148853302),\n",
              " ('princess', 0.6156251430511475),\n",
              " ('crown_prince', 0.5818676352500916),\n",
              " ('prince', 0.5777117609977722),\n",
              " ('kings', 0.5613663792610168),\n",
              " ('sultan', 0.5376775860786438),\n",
              " ('queens', 0.5289887189865112),\n",
              " ('ruler', 0.5247419476509094)]"
            ]
          },
          "metadata": {},
          "execution_count": 18
        }
      ]
    },
    {
      "cell_type": "code",
      "source": [
        "model['king'][0:50]"
      ],
      "metadata": {
        "colab": {
          "base_uri": "https://localhost:8080/"
        },
        "id": "52o-W5-kmiTF",
        "outputId": "08907d80-a7b6-44a0-da25-c19adc8915c8"
      },
      "execution_count": 19,
      "outputs": [
        {
          "output_type": "execute_result",
          "data": {
            "text/plain": [
              "array([ 0.12597656,  0.02978516,  0.00860596,  0.13964844, -0.02563477,\n",
              "       -0.03613281,  0.11181641, -0.19824219,  0.05126953,  0.36328125,\n",
              "       -0.2421875 , -0.30273438, -0.17773438, -0.02490234, -0.16796875,\n",
              "       -0.16992188,  0.03466797,  0.00521851,  0.04638672,  0.12890625,\n",
              "        0.13671875,  0.11279297,  0.05957031,  0.13671875,  0.10107422,\n",
              "       -0.17675781, -0.25195312,  0.05981445,  0.34179688, -0.03112793,\n",
              "        0.10449219,  0.06176758,  0.12451172,  0.40039062, -0.32226562,\n",
              "        0.08398438,  0.0390625 ,  0.00585938,  0.0703125 ,  0.17285156,\n",
              "        0.13867188, -0.23144531,  0.28320312,  0.14257812,  0.34179688,\n",
              "       -0.02392578, -0.10986328,  0.03320312, -0.0546875 ,  0.01531982],\n",
              "      dtype=float32)"
            ]
          },
          "metadata": {},
          "execution_count": 19
        }
      ]
    },
    {
      "cell_type": "code",
      "source": [
        "import seaborn as sns\n",
        "import numpy as np\n",
        "import pandas as pd\n",
        "import matplotlib.pyplot as plt\n",
        "\n",
        "# king, queen, woman, girl, boy, man, water\n",
        "words = ['queen', 'woman', 'girl', 'boy', 'man', 'king', 'water']\n",
        "embeddings = np.array([\n",
        "    model['queen'][0:10],\n",
        "    model['woman'][0:10],\n",
        "    model['girl'][0:10],\n",
        "    model['boy'][0:10],\n",
        "    model['man'][0:10],\n",
        "    model['king'][0:10],\n",
        "    model['water'][0:10],\n",
        "                       ])\n",
        "\n",
        "df = pd.DataFrame(embeddings, index=words)"
      ],
      "metadata": {
        "id": "DEowTdygoWiW"
      },
      "execution_count": 20,
      "outputs": []
    },
    {
      "cell_type": "code",
      "source": [
        "# Create a heatmap\n",
        "plt.figure(figsize=(18,16))\n",
        "heatmap = sns.heatmap(df, cmap='crest')\n",
        "plt.show()"
      ],
      "metadata": {
        "colab": {
          "base_uri": "https://localhost:8080/",
          "height": 1000
        },
        "id": "VC8yro9mob29",
        "outputId": "e7c5d537-f02a-4348-9c52-0934efd6765c"
      },
      "execution_count": 21,
      "outputs": [
        {
          "output_type": "display_data",
          "data": {
            "text/plain": [
              "<Figure size 1800x1600 with 2 Axes>"
            ],
            "image/png": "[encoded data removed]"
          },
          "metadata": {}
        }
      ]
    },
    {
      "cell_type": "code",
      "source": [],
      "metadata": {
        "id": "EIVJcix_odY1"
      },
      "execution_count": null,
      "outputs": []
    }
  ]
}